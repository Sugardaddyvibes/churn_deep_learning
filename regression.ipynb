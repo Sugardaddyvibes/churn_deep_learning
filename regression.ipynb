{
 "cells": [
  {
   "cell_type": "code",
   "execution_count": 1,
   "id": "0239b70a",
   "metadata": {},
   "outputs": [],
   "source": [
    "import pandas  as pd\n",
    "import   numpy as np\n",
    "import matplotlib.pyplot as plt\n",
    "from sklearn.model_selection   import train_test_split\n",
    "import pickle\n",
    "from sklearn.preprocessing import OneHotEncoder,StandardScaler,LabelEncoder\n",
    "from sklearn.compose import ColumnTransformer"
   ]
  },
  {
   "cell_type": "code",
   "execution_count": 2,
   "id": "5b2f0296",
   "metadata": {},
   "outputs": [],
   "source": [
    "df =pd.read_csv('Churn_Modelling.csv')"
   ]
  },
  {
   "cell_type": "code",
   "execution_count": 3,
   "id": "304eb869",
   "metadata": {},
   "outputs": [
    {
     "data": {
      "text/html": [
       "<div>\n",
       "<style scoped>\n",
       "    .dataframe tbody tr th:only-of-type {\n",
       "        vertical-align: middle;\n",
       "    }\n",
       "\n",
       "    .dataframe tbody tr th {\n",
       "        vertical-align: top;\n",
       "    }\n",
       "\n",
       "    .dataframe thead th {\n",
       "        text-align: right;\n",
       "    }\n",
       "</style>\n",
       "<table border=\"1\" class=\"dataframe\">\n",
       "  <thead>\n",
       "    <tr style=\"text-align: right;\">\n",
       "      <th></th>\n",
       "      <th>RowNumber</th>\n",
       "      <th>CustomerId</th>\n",
       "      <th>Surname</th>\n",
       "      <th>CreditScore</th>\n",
       "      <th>Geography</th>\n",
       "      <th>Gender</th>\n",
       "      <th>Age</th>\n",
       "      <th>Tenure</th>\n",
       "      <th>Balance</th>\n",
       "      <th>NumOfProducts</th>\n",
       "      <th>HasCrCard</th>\n",
       "      <th>IsActiveMember</th>\n",
       "      <th>EstimatedSalary</th>\n",
       "      <th>Exited</th>\n",
       "    </tr>\n",
       "  </thead>\n",
       "  <tbody>\n",
       "    <tr>\n",
       "      <th>0</th>\n",
       "      <td>1</td>\n",
       "      <td>15634602</td>\n",
       "      <td>Hargrave</td>\n",
       "      <td>619</td>\n",
       "      <td>France</td>\n",
       "      <td>Female</td>\n",
       "      <td>42</td>\n",
       "      <td>2</td>\n",
       "      <td>0.00</td>\n",
       "      <td>1</td>\n",
       "      <td>1</td>\n",
       "      <td>1</td>\n",
       "      <td>101348.88</td>\n",
       "      <td>1</td>\n",
       "    </tr>\n",
       "    <tr>\n",
       "      <th>1</th>\n",
       "      <td>2</td>\n",
       "      <td>15647311</td>\n",
       "      <td>Hill</td>\n",
       "      <td>608</td>\n",
       "      <td>Spain</td>\n",
       "      <td>Female</td>\n",
       "      <td>41</td>\n",
       "      <td>1</td>\n",
       "      <td>83807.86</td>\n",
       "      <td>1</td>\n",
       "      <td>0</td>\n",
       "      <td>1</td>\n",
       "      <td>112542.58</td>\n",
       "      <td>0</td>\n",
       "    </tr>\n",
       "    <tr>\n",
       "      <th>2</th>\n",
       "      <td>3</td>\n",
       "      <td>15619304</td>\n",
       "      <td>Onio</td>\n",
       "      <td>502</td>\n",
       "      <td>France</td>\n",
       "      <td>Female</td>\n",
       "      <td>42</td>\n",
       "      <td>8</td>\n",
       "      <td>159660.80</td>\n",
       "      <td>3</td>\n",
       "      <td>1</td>\n",
       "      <td>0</td>\n",
       "      <td>113931.57</td>\n",
       "      <td>1</td>\n",
       "    </tr>\n",
       "    <tr>\n",
       "      <th>3</th>\n",
       "      <td>4</td>\n",
       "      <td>15701354</td>\n",
       "      <td>Boni</td>\n",
       "      <td>699</td>\n",
       "      <td>France</td>\n",
       "      <td>Female</td>\n",
       "      <td>39</td>\n",
       "      <td>1</td>\n",
       "      <td>0.00</td>\n",
       "      <td>2</td>\n",
       "      <td>0</td>\n",
       "      <td>0</td>\n",
       "      <td>93826.63</td>\n",
       "      <td>0</td>\n",
       "    </tr>\n",
       "    <tr>\n",
       "      <th>4</th>\n",
       "      <td>5</td>\n",
       "      <td>15737888</td>\n",
       "      <td>Mitchell</td>\n",
       "      <td>850</td>\n",
       "      <td>Spain</td>\n",
       "      <td>Female</td>\n",
       "      <td>43</td>\n",
       "      <td>2</td>\n",
       "      <td>125510.82</td>\n",
       "      <td>1</td>\n",
       "      <td>1</td>\n",
       "      <td>1</td>\n",
       "      <td>79084.10</td>\n",
       "      <td>0</td>\n",
       "    </tr>\n",
       "  </tbody>\n",
       "</table>\n",
       "</div>"
      ],
      "text/plain": [
       "   RowNumber  CustomerId   Surname  CreditScore Geography  Gender  Age  \\\n",
       "0          1    15634602  Hargrave          619    France  Female   42   \n",
       "1          2    15647311      Hill          608     Spain  Female   41   \n",
       "2          3    15619304      Onio          502    France  Female   42   \n",
       "3          4    15701354      Boni          699    France  Female   39   \n",
       "4          5    15737888  Mitchell          850     Spain  Female   43   \n",
       "\n",
       "   Tenure    Balance  NumOfProducts  HasCrCard  IsActiveMember  \\\n",
       "0       2       0.00              1          1               1   \n",
       "1       1   83807.86              1          0               1   \n",
       "2       8  159660.80              3          1               0   \n",
       "3       1       0.00              2          0               0   \n",
       "4       2  125510.82              1          1               1   \n",
       "\n",
       "   EstimatedSalary  Exited  \n",
       "0        101348.88       1  \n",
       "1        112542.58       0  \n",
       "2        113931.57       1  \n",
       "3         93826.63       0  \n",
       "4         79084.10       0  "
      ]
     },
     "execution_count": 3,
     "metadata": {},
     "output_type": "execute_result"
    }
   ],
   "source": [
    "df.head()"
   ]
  },
  {
   "cell_type": "code",
   "execution_count": 4,
   "id": "1006a74f",
   "metadata": {},
   "outputs": [],
   "source": [
    "df.drop(['RowNumber','CustomerId','Surname'],axis=1,inplace =True)"
   ]
  },
  {
   "cell_type": "code",
   "execution_count": 5,
   "id": "09e3f451",
   "metadata": {},
   "outputs": [],
   "source": [
    "X=df.drop(['EstimatedSalary'],axis=1)\n",
    "y=df['EstimatedSalary']"
   ]
  },
  {
   "cell_type": "code",
   "execution_count": 6,
   "id": "4e54df65",
   "metadata": {},
   "outputs": [],
   "source": [
    "num_features = X.select_dtypes(exclude=\"object\").columns\n",
    "onehot_columns=['Geography','Gender']\n",
    "from sklearn.preprocessing import OneHotEncoder,StandardScaler\n",
    "from sklearn.compose import ColumnTransformer\n",
    "numeric_transformer= StandardScaler()\n",
    "oh_transformer=OneHotEncoder()\n",
    "preprocessor= ColumnTransformer(\n",
    "    [\n",
    "        (\"OneHotEncoder\",oh_transformer,onehot_columns),\n",
    "        (\"StandardScaler\",numeric_transformer,num_features)\n",
    "    ],remainder='passthrough'\n",
    ")"
   ]
  },
  {
   "cell_type": "code",
   "execution_count": 7,
   "id": "a1bc06cd",
   "metadata": {},
   "outputs": [],
   "source": [
    "X_train,X_test,y_train,y_test=train_test_split(X,y,test_size=0.42,random_state=42)"
   ]
  },
  {
   "cell_type": "code",
   "execution_count": 8,
   "id": "c223e691",
   "metadata": {},
   "outputs": [],
   "source": [
    "\n",
    "X_train=preprocessor.fit_transform(X_train)\n",
    "X_test=preprocessor.transform(X_test)"
   ]
  },
  {
   "cell_type": "code",
   "execution_count": 9,
   "id": "4d614f24",
   "metadata": {},
   "outputs": [],
   "source": [
    "with open(\"preprocessorreg.pkl\", \"wb\") as file:\n",
    "    pickle.dump(preprocessor, file)"
   ]
  },
  {
   "cell_type": "code",
   "execution_count": 10,
   "id": "e477ddfc",
   "metadata": {},
   "outputs": [
    {
     "name": "stdout",
     "output_type": "stream",
     "text": [
      "WARNING:tensorflow:From c:\\Users\\timex\\Documents\\data science2024\\deep learning\\venv\\Lib\\site-packages\\keras\\src\\losses.py:2976: The name tf.losses.sparse_softmax_cross_entropy is deprecated. Please use tf.compat.v1.losses.sparse_softmax_cross_entropy instead.\n",
      "\n"
     ]
    }
   ],
   "source": [
    "import tensorflow as tf"
   ]
  },
  {
   "cell_type": "code",
   "execution_count": 11,
   "id": "0a2873a8",
   "metadata": {},
   "outputs": [],
   "source": [
    "from tensorflow.keras.models import Sequential\n",
    "from tensorflow.keras.layers import Dense\n",
    "from tensorflow.keras.callbacks import EarlyStopping,TensorBoard\n",
    "import datetime"
   ]
  },
  {
   "cell_type": "code",
   "execution_count": 12,
   "id": "3a11130f",
   "metadata": {},
   "outputs": [
    {
     "name": "stdout",
     "output_type": "stream",
     "text": [
      "WARNING:tensorflow:From c:\\Users\\timex\\Documents\\data science2024\\deep learning\\venv\\Lib\\site-packages\\keras\\src\\backend.py:873: The name tf.get_default_graph is deprecated. Please use tf.compat.v1.get_default_graph instead.\n",
      "\n",
      "WARNING:tensorflow:From c:\\Users\\timex\\Documents\\data science2024\\deep learning\\venv\\Lib\\site-packages\\keras\\src\\optimizers\\__init__.py:309: The name tf.train.Optimizer is deprecated. Please use tf.compat.v1.train.Optimizer instead.\n",
      "\n"
     ]
    }
   ],
   "source": [
    "model=Sequential([\n",
    "    Dense(64,activation='relu',input_shape=(X_train.shape[1],)),##HL1 connected with input layer\n",
    "    Dense(32,activation='relu'),##Hl2\n",
    "    Dense(1)## output layer\n",
    "])\n",
    "\n",
    "###compile the model\n",
    "model.compile(optimizer='adam',loss=\"mean_absolute_error\",metrics=['mae'])"
   ]
  },
  {
   "cell_type": "code",
   "execution_count": 13,
   "id": "8f37f57e",
   "metadata": {},
   "outputs": [
    {
     "name": "stdout",
     "output_type": "stream",
     "text": [
      "Model: \"sequential\"\n",
      "_________________________________________________________________\n",
      " Layer (type)                Output Shape              Param #   \n",
      "=================================================================\n",
      " dense (Dense)               (None, 64)                896       \n",
      "                                                                 \n",
      " dense_1 (Dense)             (None, 32)                2080      \n",
      "                                                                 \n",
      " dense_2 (Dense)             (None, 1)                 33        \n",
      "                                                                 \n",
      "=================================================================\n",
      "Total params: 3009 (11.75 KB)\n",
      "Trainable params: 3009 (11.75 KB)\n",
      "Non-trainable params: 0 (0.00 Byte)\n",
      "_________________________________________________________________\n"
     ]
    }
   ],
   "source": [
    "model.summary()"
   ]
  },
  {
   "cell_type": "code",
   "execution_count": 15,
   "id": "aa57e5a4",
   "metadata": {},
   "outputs": [],
   "source": [
    "## set up tensor board\n",
    "log_dir=\"regressionlogs/fit/\" +datetime.datetime.now().strftime(\"%Y%m%D-%H%M%S\")\n",
    "tensorflow_callback=TensorBoard(log_dir=log_dir,histogram_freq=1)\n",
    "##setup early stopping\n",
    "earrly_stopping_callback=EarlyStopping(monitor='val_loss',patience=10,restore_best_weights=True)"
   ]
  },
  {
   "cell_type": "code",
   "execution_count": 16,
   "id": "124987e2",
   "metadata": {},
   "outputs": [
    {
     "name": "stdout",
     "output_type": "stream",
     "text": [
      "Epoch 1/100\n",
      "WARNING:tensorflow:From c:\\Users\\timex\\Documents\\data science2024\\deep learning\\venv\\Lib\\site-packages\\keras\\src\\utils\\tf_utils.py:492: The name tf.ragged.RaggedTensorValue is deprecated. Please use tf.compat.v1.ragged.RaggedTensorValue instead.\n",
      "\n",
      "WARNING:tensorflow:From c:\\Users\\timex\\Documents\\data science2024\\deep learning\\venv\\Lib\\site-packages\\keras\\src\\engine\\base_layer_utils.py:384: The name tf.executing_eagerly_outside_functions is deprecated. Please use tf.compat.v1.executing_eagerly_outside_functions instead.\n",
      "\n",
      "182/182 [==============================] - 7s 17ms/step - loss: 101340.4219 - mae: 101340.4219 - val_loss: 98226.0312 - val_mae: 98226.0312\n",
      "Epoch 2/100\n",
      "182/182 [==============================] - 2s 8ms/step - loss: 100947.8047 - mae: 100947.8047 - val_loss: 97390.9375 - val_mae: 97390.9375\n",
      "Epoch 3/100\n",
      "182/182 [==============================] - 2s 10ms/step - loss: 99432.9688 - mae: 99432.9688 - val_loss: 95094.0234 - val_mae: 95094.0234\n",
      "Epoch 4/100\n",
      "182/182 [==============================] - 2s 11ms/step - loss: 96216.8516 - mae: 96216.8516 - val_loss: 90927.4922 - val_mae: 90927.4922\n",
      "Epoch 5/100\n",
      "182/182 [==============================] - 2s 9ms/step - loss: 91074.1328 - mae: 91074.1328 - val_loss: 84944.5000 - val_mae: 84944.5000\n",
      "Epoch 6/100\n",
      "182/182 [==============================] - 2s 10ms/step - loss: 84225.3516 - mae: 84225.3516 - val_loss: 77634.5078 - val_mae: 77634.5078\n",
      "Epoch 7/100\n",
      "182/182 [==============================] - 2s 10ms/step - loss: 76335.2109 - mae: 76335.2109 - val_loss: 69762.8125 - val_mae: 69762.8125\n",
      "Epoch 8/100\n",
      "182/182 [==============================] - 2s 13ms/step - loss: 68343.4844 - mae: 68343.4844 - val_loss: 62455.4922 - val_mae: 62455.4922\n",
      "Epoch 9/100\n",
      "182/182 [==============================] - 2s 13ms/step - loss: 61262.9141 - mae: 61262.9141 - val_loss: 56594.9492 - val_mae: 56594.9492\n",
      "Epoch 10/100\n",
      "182/182 [==============================] - 3s 18ms/step - loss: 56017.2539 - mae: 56017.2539 - val_loss: 52686.0391 - val_mae: 52686.0391\n",
      "Epoch 11/100\n",
      "182/182 [==============================] - 2s 10ms/step - loss: 52703.8281 - mae: 52703.8281 - val_loss: 50601.2969 - val_mae: 50601.2969\n",
      "Epoch 12/100\n",
      "182/182 [==============================] - 2s 9ms/step - loss: 50878.7188 - mae: 50878.7188 - val_loss: 49776.6484 - val_mae: 49776.6484\n",
      "Epoch 13/100\n",
      "182/182 [==============================] - 3s 14ms/step - loss: 50095.9844 - mae: 50095.9844 - val_loss: 49566.0859 - val_mae: 49566.0859\n",
      "Epoch 14/100\n",
      "182/182 [==============================] - 2s 12ms/step - loss: 49843.6133 - mae: 49843.6133 - val_loss: 49550.5781 - val_mae: 49550.5781\n",
      "Epoch 15/100\n",
      "182/182 [==============================] - 2s 13ms/step - loss: 49765.9102 - mae: 49765.9102 - val_loss: 49572.6016 - val_mae: 49572.6016\n",
      "Epoch 16/100\n",
      "182/182 [==============================] - 3s 15ms/step - loss: 49738.8203 - mae: 49738.8203 - val_loss: 49585.8789 - val_mae: 49585.8789\n",
      "Epoch 17/100\n",
      "182/182 [==============================] - 2s 11ms/step - loss: 49730.9844 - mae: 49730.9844 - val_loss: 49593.3672 - val_mae: 49593.3672\n",
      "Epoch 18/100\n",
      "182/182 [==============================] - 2s 13ms/step - loss: 49723.7148 - mae: 49723.7148 - val_loss: 49593.0664 - val_mae: 49593.0664\n",
      "Epoch 19/100\n",
      "182/182 [==============================] - 2s 11ms/step - loss: 49718.0703 - mae: 49718.0703 - val_loss: 49600.7812 - val_mae: 49600.7812\n",
      "Epoch 20/100\n",
      "182/182 [==============================] - 2s 13ms/step - loss: 49710.0039 - mae: 49710.0039 - val_loss: 49600.6055 - val_mae: 49600.6055\n",
      "Epoch 21/100\n",
      "182/182 [==============================] - 2s 10ms/step - loss: 49707.4102 - mae: 49707.4102 - val_loss: 49618.5547 - val_mae: 49618.5547\n",
      "Epoch 22/100\n",
      "182/182 [==============================] - 1s 8ms/step - loss: 49700.3047 - mae: 49700.3047 - val_loss: 49622.9688 - val_mae: 49622.9688\n",
      "Epoch 23/100\n",
      "182/182 [==============================] - 4s 20ms/step - loss: 49701.0430 - mae: 49701.0430 - val_loss: 49618.1562 - val_mae: 49618.1562\n",
      "Epoch 24/100\n",
      "182/182 [==============================] - 2s 9ms/step - loss: 49694.1250 - mae: 49694.1250 - val_loss: 49611.7148 - val_mae: 49611.7148\n"
     ]
    }
   ],
   "source": [
    "history=model.fit(X_train,y_train,validation_data=(X_test,y_test),epochs=100,\n",
    "                  callbacks=[tensorflow_callback,earrly_stopping_callback])\n"
   ]
  },
  {
   "cell_type": "code",
   "execution_count": 17,
   "id": "50466e7d",
   "metadata": {},
   "outputs": [
    {
     "name": "stderr",
     "output_type": "stream",
     "text": [
      "c:\\Users\\timex\\Documents\\data science2024\\deep learning\\venv\\Lib\\site-packages\\keras\\src\\engine\\training.py:3103: UserWarning: You are saving your model as an HDF5 file via `model.save()`. This file format is considered legacy. We recommend using instead the native Keras format, e.g. `model.save('my_model.keras')`.\n",
      "  saving_api.save_model(\n"
     ]
    }
   ],
   "source": [
    "model.save('modelreg.h5')"
   ]
  },
  {
   "cell_type": "code",
   "execution_count": 18,
   "id": "288cefb9",
   "metadata": {},
   "outputs": [],
   "source": [
    "import tensorboard\n",
    "%load_ext tensorboard"
   ]
  },
  {
   "cell_type": "code",
   "execution_count": 20,
   "id": "adbecf51",
   "metadata": {},
   "outputs": [
    {
     "data": {
      "text/plain": [
       "Reusing TensorBoard on port 6006 (pid 11172), started 0:00:12 ago. (Use '!kill 11172' to kill it.)"
      ]
     },
     "metadata": {},
     "output_type": "display_data"
    },
    {
     "data": {
      "text/html": [
       "\n",
       "      <iframe id=\"tensorboard-frame-250a250e3e56d9d5\" width=\"100%\" height=\"800\" frameborder=\"0\">\n",
       "      </iframe>\n",
       "      <script>\n",
       "        (function() {\n",
       "          const frame = document.getElementById(\"tensorboard-frame-250a250e3e56d9d5\");\n",
       "          const url = new URL(\"http://localhost\");\n",
       "          const port = 6006;\n",
       "          if (port) {\n",
       "            url.port = port;\n",
       "          }\n",
       "          frame.src = url;\n",
       "        })();\n",
       "      </script>\n",
       "    "
      ],
      "text/plain": [
       "<IPython.core.display.HTML object>"
      ]
     },
     "metadata": {},
     "output_type": "display_data"
    }
   ],
   "source": [
    "%tensorboard --logdir regressionlogs/fit"
   ]
  },
  {
   "cell_type": "code",
   "execution_count": 24,
   "id": "ef1ab805",
   "metadata": {},
   "outputs": [
    {
     "name": "stdout",
     "output_type": "stream",
     "text": [
      "132/132 [==============================] - 0s 3ms/step - loss: 49550.5781 - mae: 49550.5781\n",
      "TEST MAE:49550.578125\n"
     ]
    }
   ],
   "source": [
    "test_loss,test_mae=model.evaluate(X_test,y_test)\n",
    "print(f'TEST MAE:{test_mae}')"
   ]
  },
  {
   "cell_type": "code",
   "execution_count": null,
   "id": "a4debeae",
   "metadata": {},
   "outputs": [],
   "source": []
  }
 ],
 "metadata": {
  "kernelspec": {
   "display_name": "Python 3",
   "language": "python",
   "name": "python3"
  },
  "language_info": {
   "codemirror_mode": {
    "name": "ipython",
    "version": 3
   },
   "file_extension": ".py",
   "mimetype": "text/x-python",
   "name": "python",
   "nbconvert_exporter": "python",
   "pygments_lexer": "ipython3",
   "version": "3.11.0"
  }
 },
 "nbformat": 4,
 "nbformat_minor": 5
}
