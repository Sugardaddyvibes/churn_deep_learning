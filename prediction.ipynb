{
 "cells": [
  {
   "cell_type": "code",
   "execution_count": 4,
   "id": "b2e08eec",
   "metadata": {},
   "outputs": [],
   "source": [
    "import tensorflow as tf\n",
    "from tensorflow.keras.models import load_model\n",
    "import pickle\n",
    "import pandas as pd\n",
    "import numpy as np"
   ]
  },
  {
   "cell_type": "code",
   "execution_count": 12,
   "id": "d657dc70",
   "metadata": {},
   "outputs": [],
   "source": [
    "### load the trained model and preprocessor file\n",
    "model=load_model('model.h5')\n",
    "\n",
    "with open('preprocessor.pkl','rb') as file:\n",
    "    preprocessor= pickle.load(file)\n"
   ]
  },
  {
   "cell_type": "code",
   "execution_count": 13,
   "id": "bfc36c26",
   "metadata": {},
   "outputs": [],
   "source": [
    "input_data={\n",
    "    'CreditScore':600, \n",
    "    'Geography': 'France', \n",
    "    'Gender':'Male',\n",
    "    'Age':40, \n",
    "    'Tenure':3, \n",
    "    'Balance':60000,\n",
    "    'NumOfProducts':2, \n",
    "    'HasCrCard':1, \n",
    "    'IsActiveMember':1,\n",
    "    'EstimatedSalary':50000,\n",
    "}"
   ]
  },
  {
   "cell_type": "code",
   "execution_count": 15,
   "id": "4e4690f6",
   "metadata": {},
   "outputs": [],
   "source": [
    "input_df = pd.DataFrame([input_data])"
   ]
  },
  {
   "cell_type": "code",
   "execution_count": 17,
   "id": "8ce05f3f",
   "metadata": {},
   "outputs": [],
   "source": [
    "scaled_data=preprocessor.transform(input_df)"
   ]
  },
  {
   "cell_type": "code",
   "execution_count": 19,
   "id": "ffefc317",
   "metadata": {},
   "outputs": [
    {
     "name": "stdout",
     "output_type": "stream",
     "text": [
      "1/1 [==============================] - 0s 37ms/step\n"
     ]
    }
   ],
   "source": [
    "prediction = (model.predict(scaled_data) > 0.5).astype(int)"
   ]
  },
  {
   "cell_type": "code",
   "execution_count": 21,
   "id": "464443c5",
   "metadata": {},
   "outputs": [
    {
     "data": {
      "text/plain": [
       "array([[0]])"
      ]
     },
     "execution_count": 21,
     "metadata": {},
     "output_type": "execute_result"
    }
   ],
   "source": [
    "prediction"
   ]
  },
  {
   "cell_type": "code",
   "execution_count": 23,
   "id": "7dd54fd2",
   "metadata": {},
   "outputs": [
    {
     "name": "stdout",
     "output_type": "stream",
     "text": [
      "thr customer is not likely to churn\n"
     ]
    }
   ],
   "source": [
    "prediction_proba=prediction[0][0]\n",
    "if prediction_proba >0.5:\n",
    "    print('The customer is likely to churn')\n",
    "else:\n",
    "    print('thr customer is not likely to churn')\n"
   ]
  },
  {
   "cell_type": "code",
   "execution_count": 25,
   "id": "3e87df1c",
   "metadata": {},
   "outputs": [
    {
     "data": {
      "text/plain": [
       "0"
      ]
     },
     "execution_count": 25,
     "metadata": {},
     "output_type": "execute_result"
    }
   ],
   "source": [
    "prediction_proba=prediction[0][0]\n",
    "prediction_proba\n"
   ]
  }
 ],
 "metadata": {
  "kernelspec": {
   "display_name": "Python 3",
   "language": "python",
   "name": "python3"
  },
  "language_info": {
   "codemirror_mode": {
    "name": "ipython",
    "version": 3
   },
   "file_extension": ".py",
   "mimetype": "text/x-python",
   "name": "python",
   "nbconvert_exporter": "python",
   "pygments_lexer": "ipython3",
   "version": "3.11.0"
  }
 },
 "nbformat": 4,
 "nbformat_minor": 5
}
